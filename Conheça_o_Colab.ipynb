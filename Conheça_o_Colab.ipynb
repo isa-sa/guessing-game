{
  "cells": [
    {
      "cell_type": "markdown",
      "metadata": {
        "id": "view-in-github",
        "colab_type": "text"
      },
      "source": [
        "<a href=\"https://colab.research.google.com/github/isa-sa/guessing-game/blob/main/Conhe%C3%A7a_o_Colab.ipynb\" target=\"_parent\"><img src=\"https://colab.research.google.com/assets/colab-badge.svg\" alt=\"Open In Colab\"/></a>"
      ]
    },
    {
      "cell_type": "code",
      "source": [
        "print(\"hello world\")"
      ],
      "metadata": {
        "colab": {
          "base_uri": "https://localhost:8080/"
        },
        "id": "FNtHQR-6IUEe",
        "outputId": "b757a923-fe74-4002-dfa8-17378ca1d469"
      },
      "execution_count": 5,
      "outputs": [
        {
          "output_type": "stream",
          "name": "stdout",
          "text": [
            "hello world\n"
          ]
        }
      ]
    },
    {
      "cell_type": "code",
      "source": [
        "#Variaveis\n",
        "idade = 32\n",
        "nome = \"Tati\"\n",
        "\n",
        "print(\"Nome:\", nome, \"Idade:\", idade)"
      ],
      "metadata": {
        "colab": {
          "base_uri": "https://localhost:8080/"
        },
        "id": "Yy16OtDnKOGc",
        "outputId": "69a70d68-245d-454c-84a7-9e7ef0789517"
      },
      "execution_count": 45,
      "outputs": [
        {
          "output_type": "stream",
          "name": "stdout",
          "text": [
            "Nome: Tati Idade: 32\n"
          ]
        }
      ]
    },
    {
      "cell_type": "code",
      "source": [
        "#Usuario digita nome\n",
        "nome = input(\"Digite o nome: \")\n",
        "print(nome)"
      ],
      "metadata": {
        "colab": {
          "base_uri": "https://localhost:8080/"
        },
        "id": "mOUNEQGuL1j1",
        "outputId": "66111032-e5eb-4323-a28c-9b596643bd03"
      },
      "execution_count": 11,
      "outputs": [
        {
          "output_type": "stream",
          "name": "stdout",
          "text": [
            "Digite o nome: isa\n",
            "isa\n"
          ]
        }
      ]
    },
    {
      "cell_type": "code",
      "source": [
        "nome = input(\"Digite o nome: \")\n",
        "\n",
        "if nome == \"isa\":\n",
        "  print(\"acesso liberado\")\n",
        "\n",
        "else:\n",
        "  print(\"acesso negado\")"
      ],
      "metadata": {
        "colab": {
          "base_uri": "https://localhost:8080/"
        },
        "id": "oswWHMh2MmG8",
        "outputId": "26f7e6e5-59ff-4e13-c965-14ae9f3e9d0e"
      },
      "execution_count": 15,
      "outputs": [
        {
          "output_type": "stream",
          "name": "stdout",
          "text": [
            "Digite o nome: isa\n",
            "acesso liberado\n"
          ]
        }
      ]
    },
    {
      "cell_type": "code",
      "source": [
        "nota1, nota2, nota3 = map(float, input().split(\" \"))\n",
        "media = (nota1+nota2+nota3)/3\n",
        "\n",
        "if media >= 7:\n",
        "  print(\"Aprovado\")\n",
        "\n",
        "else:\n",
        "  print(\"Reprovado\")"
      ],
      "metadata": {
        "colab": {
          "base_uri": "https://localhost:8080/"
        },
        "id": "N_ieqHHnQwBl",
        "outputId": "28833874-6a6c-43aa-d92a-85d0933c8b4c"
      },
      "execution_count": 21,
      "outputs": [
        {
          "output_type": "stream",
          "name": "stdout",
          "text": [
            "10 5 9\n",
            "Aprovado\n"
          ]
        }
      ]
    },
    {
      "cell_type": "code",
      "source": [
        "nota = float(input())\n",
        "\n",
        "if nota >= 7:\n",
        "  print(\"aprovado\")\n",
        "\n",
        "else:\n",
        "  print(\"reprovado\")"
      ],
      "metadata": {
        "colab": {
          "base_uri": "https://localhost:8080/"
        },
        "id": "x2QSiaVLSPTR",
        "outputId": "3061cfc5-31c9-40d4-8f51-d7431aaafd54"
      },
      "execution_count": 29,
      "outputs": [
        {
          "output_type": "stream",
          "name": "stdout",
          "text": [
            "7.0\n",
            "aprovado\n"
          ]
        }
      ]
    },
    {
      "cell_type": "code",
      "source": [
        "numero = 1\n",
        "\n",
        "while numero <= 5:\n",
        "  print(numero)\n",
        "  numero += 1"
      ],
      "metadata": {
        "colab": {
          "base_uri": "https://localhost:8080/"
        },
        "id": "aWx2ugPcTvj-",
        "outputId": "6f5b31ca-0454-408c-a31f-4015a07ccf12"
      },
      "execution_count": 16,
      "outputs": [
        {
          "output_type": "stream",
          "name": "stdout",
          "text": [
            "1\n",
            "2\n",
            "3\n",
            "4\n",
            "5\n"
          ]
        }
      ]
    },
    {
      "cell_type": "code",
      "source": [
        "numero = int(input())\n",
        "contador = 0\n",
        "\n",
        "while contador <= numero:\n",
        "  print(contador)\n",
        "  contador +=1"
      ],
      "metadata": {
        "colab": {
          "base_uri": "https://localhost:8080/"
        },
        "id": "NPk5IounY-BJ",
        "outputId": "bf76a419-6594-4045-de0f-7ccdb38fee8d"
      },
      "execution_count": 24,
      "outputs": [
        {
          "output_type": "stream",
          "name": "stdout",
          "text": [
            "5\n",
            "0\n",
            "1\n",
            "2\n",
            "3\n",
            "4\n",
            "5\n"
          ]
        }
      ]
    },
    {
      "cell_type": "code",
      "source": [
        "numero = int(input())\n",
        "\n",
        "for i in range(0, numero+1):\n",
        "  print(i)"
      ],
      "metadata": {
        "colab": {
          "base_uri": "https://localhost:8080/"
        },
        "id": "0PvKvOhpeSMb",
        "outputId": "fbe2ef77-36b2-4f86-b267-d4bc6e323c77"
      },
      "execution_count": 29,
      "outputs": [
        {
          "output_type": "stream",
          "name": "stdout",
          "text": [
            "5\n",
            "0\n",
            "1\n",
            "2\n",
            "3\n",
            "4\n",
            "5\n"
          ]
        }
      ]
    },
    {
      "cell_type": "code",
      "source": [
        "numero = int(input())\n",
        "\n",
        "for i in range(numero, 0, -1):\n",
        "  print(i)"
      ],
      "metadata": {
        "colab": {
          "base_uri": "https://localhost:8080/"
        },
        "id": "mXDT_rfVhEXF",
        "outputId": "0b46c559-7c3f-4154-afe5-800276d3c343"
      },
      "execution_count": 40,
      "outputs": [
        {
          "output_type": "stream",
          "name": "stdout",
          "text": [
            "5\n",
            "5\n",
            "4\n",
            "3\n",
            "2\n",
            "1\n"
          ]
        }
      ]
    },
    {
      "cell_type": "code",
      "source": [
        "num = 7\n",
        "guess = int(input())\n",
        "\n",
        "while guess != 7:\n",
        "  print(\"Errou24\")\n",
        "  guess = int(input())\n",
        "\n",
        "print(\"Acertou\")"
      ],
      "metadata": {
        "colab": {
          "base_uri": "https://localhost:8080/"
        },
        "id": "1U1L3Of4iPLd",
        "outputId": "c9d6c8d3-ffa4-4e7d-88c3-e54b03d2567e"
      },
      "execution_count": 52,
      "outputs": [
        {
          "output_type": "stream",
          "name": "stdout",
          "text": [
            "1\n",
            "Errou\n",
            "3\n",
            "Errou\n",
            "20\n",
            "Errou\n",
            "30\n",
            "Errou\n",
            "40\n",
            "Errou\n",
            "40\n",
            "Errou\n",
            "0\n",
            "Errou\n",
            "0\n",
            "Errou\n",
            "10\n",
            "Errou\n",
            "40\n",
            "Errou\n",
            "593003\n",
            "Errou\n",
            "289585\n",
            "Errou\n",
            "7\n",
            "Acertou\n"
          ]
        }
      ]
    }
  ],
  "metadata": {
    "colab": {
      "name": "Conheça o Colab",
      "provenance": [],
      "include_colab_link": true
    },
    "kernelspec": {
      "display_name": "Python 3",
      "name": "python3"
    }
  },
  "nbformat": 4,
  "nbformat_minor": 0
}